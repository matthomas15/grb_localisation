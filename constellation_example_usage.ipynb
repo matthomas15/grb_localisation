{
 "cells": [
  {
   "cell_type": "code",
   "execution_count": 1,
   "metadata": {},
   "outputs": [],
   "source": [
    "from modules.constellation import SatelliteConstellation, PointingStrategy\n",
    "import numpy as np\n",
    "import matplotlib.pyplot as plt"
   ]
  },
  {
   "cell_type": "code",
   "execution_count": 2,
   "metadata": {},
   "outputs": [],
   "source": [
    "\n",
    "\n",
    "constellation = SatelliteConstellation(pointing_offset_deg=25)\n",
    "\n",
    "constellation.add_satellite_from_tle(name = 'Spirit',\n",
    "                                     line1 = '1 58468U 23185G   25058.90294474  .00035172  00000+0  11098-2 0  9997',\n",
    "                                     line2 = '2 58468  97.3898 128.8229 0010982 203.8018 256.4447 15.32718055 69105'\n",
    "                                    )\n",
    "\n",
    "# Until we have TLE's for HERMES, just initialise them as spirit-like orbits with a different raan,\n",
    "# equally spaced around their orbital plane (through the raan)\n",
    "for hermes_idx in range(1,7):\n",
    "\n",
    "    arg_perigee = np.round((hermes_idx - 1) * 60, 4)\n",
    "    raan = 110.0000 # close to Spirit's plane, but not quite\n",
    "\n",
    "    constellation.add_satellite_from_tle(name = f'HERMES_{hermes_idx}',\n",
    "                                        line1 = '1 58468U 23185G   25058.90294474  .00035172  00000+0  11098-2 0  9997',\n",
    "                                        line2 = f'2 58468  97.3898 {raan} 0010982 {arg_perigee} 256.4447 15.32718055 69105'\n",
    "                                        )"
   ]
  },
  {
   "cell_type": "code",
   "execution_count": null,
   "metadata": {},
   "outputs": [
    {
     "name": "stdout",
     "output_type": "stream",
     "text": [
      "The current UTC time is: 2025-03-03 05:00:09 TT\n",
      "Randomly generated time: 2025-03-13 10:30:32 TT\n",
      "\n",
      "> Satellite positions at 2025-03-13 10:30:32 TT :\n",
      "[[ 2754.88287679 -4960.31463159 -3834.89119757]\n",
      " [ 1590.20800427 -5151.8361138  -3135.33495415]\n",
      " [ -893.5254765  -2884.26124721 -6063.24257197]\n",
      " [-3707.56302894  3117.84356222 -4732.19373128]\n",
      " [-2818.46690473  6005.10095772  1324.4088828 ]\n",
      " [  892.43948213  2876.71829244  6050.40678116]\n",
      " [ 3708.20474231 -3134.98268055  4710.53727451]]\n",
      "\n",
      "> Satellite pointings at 2025-03-13 10:30:32 TT :\n",
      "[[ 1.90939262  0.        ]\n",
      " [ 1.4730603   0.        ]\n",
      " [ 1.69122646 -0.21816616]\n",
      " [ 5.01271911 -0.1799    ]\n",
      " [ 4.65291911 -0.1799    ]\n",
      " [ 4.83281911  0.1799    ]\n",
      " [ 1.69122646  0.21816616]]\n"
     ]
    }
   ],
   "source": [
    "'''\n",
    "Basic Usage\n",
    "'''\n",
    "\n",
    "# You need to set the time using a datetime object, which we\n",
    "# can call through the SatelliteConstellation class\n",
    "\n",
    "current_time = constellation.get_current_time()\n",
    "\n",
    "constellation.set_time(time = current_time)\n",
    "\n",
    "print('The current UTC time is:', constellation.time.tt_strftime() )\n",
    "# .tt_strftime() just converts the time object into human readable format\n",
    "\n",
    "###\n",
    "\n",
    "# We can also generate random times up to a few weeks into\n",
    "# the future (its unwise to go further than this because\n",
    "# TLE accuracy gets quite bad after about 2 weeks).\n",
    "#  - we will probably using this random feature the most\n",
    "#    when generating GRB times for MCMC\n",
    "\n",
    "constellation.set_time(random = True)\n",
    "\n",
    "print('Randomly generated time:', constellation.time.tt_strftime() )\n",
    "\n",
    "# Now that the time is set, we can get the constellation's cartesian\n",
    "# position and pointing vectors with two easy functions\n",
    "\n",
    "positions = constellation.get_xyz()\n",
    "\n",
    "print('\\n> Satellite positions at', constellation.time.tt_strftime(), ':')\n",
    "print(positions)\n",
    "\n",
    "pointings, pointing_group_centres = constellation.get_pointing_radec()\n",
    "\n",
    "print('\\n> Satellite pointings at', constellation.time.tt_strftime(), ':')\n",
    "print(pointings)\n",
    "\n",
    "# Pointings are formatted as ra, dec, where:\n",
    "#       0 < ra < 2 * pi\n",
    "#       -pi < dec < pi\n"
   ]
  }
 ],
 "metadata": {
  "kernelspec": {
   "display_name": "Python 3",
   "language": "python",
   "name": "python3"
  },
  "language_info": {
   "codemirror_mode": {
    "name": "ipython",
    "version": 3
   },
   "file_extension": ".py",
   "mimetype": "text/x-python",
   "name": "python",
   "nbconvert_exporter": "python",
   "pygments_lexer": "ipython3",
   "version": "3.9.17"
  }
 },
 "nbformat": 4,
 "nbformat_minor": 2
}
